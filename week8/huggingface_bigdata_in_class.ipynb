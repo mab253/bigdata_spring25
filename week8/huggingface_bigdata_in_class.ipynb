{
  "cells": [
    {
      "cell_type": "markdown",
      "source": [
        "## 🚦🤖 transformers"
      ],
      "metadata": {
        "id": "M39NvI1pJkjS"
      }
    },
    {
      "cell_type": "code",
      "source": [
        "# first step: CONNECT -> T4 GPU!\n",
        "# then run below to install pyTorch\n",
        "\n",
        "!pip install torch torchvision -U\n",
        "# this might take a minute ..."
      ],
      "metadata": {
        "id": "r7-DJ3oVJm0U"
      },
      "execution_count": null,
      "outputs": []
    },
    {
      "cell_type": "code",
      "source": [
        "from transformers import pipeline"
      ],
      "metadata": {
        "id": "gDE6J02pKc08"
      },
      "execution_count": null,
      "outputs": []
    },
    {
      "cell_type": "code",
      "source": [
        "# choose pipeline! we'll start with zero-shot classification\n",
        "\n",
        "classifier = pipeline(\"zero-shot-classification\")"
      ],
      "metadata": {
        "id": "g7_wp99-J1sQ"
      },
      "execution_count": null,
      "outputs": []
    },
    {
      "cell_type": "code",
      "source": [
        "# define your input text and possible labels (classes)\n",
        "input_text = \"Astronomy is the study of stars and planets.\"\n",
        "possible_labels = [\"Science\", \"History\", \"Sports\"]"
      ],
      "metadata": {
        "id": "_JpHf9xpKZCD"
      },
      "execution_count": null,
      "outputs": []
    },
    {
      "cell_type": "code",
      "source": [
        "# run the pipeline stages and get result\n",
        "result = classifier(input_text, possible_labels)"
      ],
      "metadata": {
        "id": "xTZvYJMGLJLc"
      },
      "execution_count": null,
      "outputs": []
    },
    {
      "cell_type": "code",
      "source": [
        "# nicely formatted result\n",
        "print(\"Input Text:\", input_text)\n",
        "print(\"Predicted Class:\", result[\"labels\"][0])\n",
        "print(\"Confidence Score:\", result[\"scores\"][0])"
      ],
      "metadata": {
        "id": "pKaMG8tPLUKF"
      },
      "execution_count": null,
      "outputs": []
    },
    {
      "cell_type": "code",
      "source": [
        "# print raw lists of labels and scores outputs\n",
        "print(result[\"labels\"])\n",
        "print(result[\"scores\"])"
      ],
      "metadata": {
        "id": "0CkWrFrdLYgh"
      },
      "execution_count": null,
      "outputs": []
    },
    {
      "cell_type": "code",
      "source": [
        "# choose a different model for the same pipeline task\n",
        "# models from hugging face: https://huggingface.co/models\n",
        "\n",
        "classifier_m = pipeline(\"zero-shot-classification\", model=\"MoritzLaurer/DeBERTa-v3-large-mnli-fever-anli-ling-wanli\")"
      ],
      "metadata": {
        "id": "XPxd29VGMMsk"
      },
      "execution_count": null,
      "outputs": []
    },
    {
      "cell_type": "code",
      "source": [
        "result = classifier_m(input_text, possible_labels)"
      ],
      "metadata": {
        "id": "1yi1oyOvMWk3"
      },
      "execution_count": null,
      "outputs": []
    },
    {
      "cell_type": "code",
      "source": [
        "print(result[\"labels\"])\n",
        "print(result[\"scores\"])\n",
        "\n",
        "# same scores or different scores as previous model?"
      ],
      "metadata": {
        "id": "jhYR1FQ8Mbf-"
      },
      "execution_count": null,
      "outputs": []
    },
    {
      "cell_type": "code",
      "source": [
        "from transformers import AutoTokenizer, AutoModelForSequenceClassification, AutoConfig"
      ],
      "metadata": {
        "id": "anrz3gaHMijn"
      },
      "execution_count": null,
      "outputs": []
    },
    {
      "cell_type": "code",
      "source": [
        "# looking under the hood a little bit ... the config of the model\n",
        "config = AutoConfig.from_pretrained(\"MoritzLaurer/DeBERTa-v3-large-mnli-fever-anli-ling-wanli\")\n",
        "print(config)"
      ],
      "metadata": {
        "id": "WbmNBgV-Moks"
      },
      "execution_count": null,
      "outputs": []
    },
    {
      "cell_type": "code",
      "source": [
        "print(\"Hidden size:\", config.hidden_size)\n",
        "print(\"Number of attention heads:\", config.num_attention_heads)\n",
        "print(\"Vocabulary size:\", config.vocab_size)"
      ],
      "metadata": {
        "id": "y-8RhQRPMtnF"
      },
      "execution_count": null,
      "outputs": []
    },
    {
      "cell_type": "code",
      "source": [
        "# just going through Tokenizer stage in the pipeline\n",
        "tokenizer = AutoTokenizer.from_pretrained(\"MoritzLaurer/DeBERTa-v3-large-mnli-fever-anli-ling-wanli\")"
      ],
      "metadata": {
        "id": "UlKapXR_MvhO"
      },
      "execution_count": null,
      "outputs": []
    },
    {
      "cell_type": "code",
      "source": [
        "tokens = tokenizer.tokenize(\"Astronomy is the study of stars and planets.\")\n",
        "print(tokens)"
      ],
      "metadata": {
        "id": "HXT5VRRKM3Cw"
      },
      "execution_count": null,
      "outputs": []
    },
    {
      "cell_type": "code",
      "source": [
        "ids = tokenizer.convert_tokens_to_ids(tokens)\n",
        "print(ids)"
      ],
      "metadata": {
        "id": "FW-J-vXCNDqR"
      },
      "execution_count": null,
      "outputs": []
    },
    {
      "cell_type": "code",
      "source": [
        "response = tokenizer(\"Astronomy is the study of stars and planets.\")\n",
        "print(response)"
      ],
      "metadata": {
        "id": "OhUIlcykM0PF"
      },
      "execution_count": null,
      "outputs": []
    },
    {
      "cell_type": "code",
      "source": [
        "proton_result = classifier_m(\"Proton is a great cat, he just gets a little out of control.\", [\"pets\", \"stories\", \"physics\", \"cooking\", \"trash\"])"
      ],
      "metadata": {
        "id": "qVcFcIKRNSDq"
      },
      "execution_count": null,
      "outputs": []
    },
    {
      "cell_type": "code",
      "source": [
        "print(proton_result)"
      ],
      "metadata": {
        "id": "BDN-A346NV9t"
      },
      "execution_count": null,
      "outputs": []
    },
    {
      "cell_type": "code",
      "source": [
        "for i in range(len(proton_result[\"scores\"])):\n",
        "    print(proton_result[\"labels\"][i] + \": \" + str(proton_result[\"scores\"][i] * 100) + \"%\")"
      ],
      "metadata": {
        "id": "m8t5k0KeNYaK"
      },
      "execution_count": null,
      "outputs": []
    },
    {
      "cell_type": "markdown",
      "source": [
        "## part ii: experiment w/transformers pipelines"
      ],
      "metadata": {
        "id": "s4oXheXuNnaq"
      }
    },
    {
      "cell_type": "code",
      "source": [
        "# repeat the cells above with the zero-shot classification pipeline with your own sequence (sentence of text) and list of categories\n",
        "\n"
      ],
      "metadata": {
        "id": "apcj7G2nP3yO"
      },
      "execution_count": null,
      "outputs": []
    },
    {
      "cell_type": "code",
      "source": [
        "# now choose a different pipeline task!\n",
        "# full list here (many are NLP, but they are not all text-based ...)\n",
        "# https://huggingface.co/docs/transformers/en/main_classes/pipelines\n",
        "\n",
        "# you may want to check out the tutorial-style documentation with examples\n",
        "# on this page: https://huggingface.co/learn/nlp-course/chapter1/3"
      ],
      "metadata": {
        "id": "V-tFNSEkK_ih"
      },
      "execution_count": null,
      "outputs": []
    },
    {
      "cell_type": "code",
      "source": [
        "# run at first with the default model, but then you can choose a different model\n",
        "# and compare results\n",
        "\n",
        "# list of models here: https://huggingface.co/models\n",
        "# (many are open sourced; if 1 that you choose asks you to add API key, look for 1 that does not)\n",
        "\n",
        "# many models also show example code of how to work with pipeline abstraction"
      ],
      "metadata": {
        "id": "hzdky6KPNsu3"
      },
      "execution_count": null,
      "outputs": []
    },
    {
      "cell_type": "code",
      "source": [
        "# check out another pipeline task + model, as time permits\n",
        "\n"
      ],
      "metadata": {
        "id": "A4vRoyd-N28X"
      },
      "execution_count": null,
      "outputs": []
    },
    {
      "cell_type": "code",
      "source": [
        "# watch the video on Hugging Face \"Spaces,\" here: https://huggingface.co/spaces/launch\n",
        "\n"
      ],
      "metadata": {
        "id": "lyM0S60xOROq"
      },
      "execution_count": null,
      "outputs": []
    },
    {
      "cell_type": "code",
      "source": [
        "# is there a \"Space\" (deployed transformer app) that was exciting to you?\n",
        "# play with Spaces apps here : https://huggingface.co/spaces\n",
        "\n"
      ],
      "metadata": {
        "id": "dpKXCvDyPZJI"
      },
      "execution_count": null,
      "outputs": []
    },
    {
      "cell_type": "code",
      "source": [
        "# what is going on here in terms of ABSTRACTION? what is being \"abstracted\" away from us? pros/cons?\n",
        "\n"
      ],
      "metadata": {
        "id": "KN-H2pBcPqZw"
      },
      "execution_count": null,
      "outputs": []
    },
    {
      "cell_type": "code",
      "source": [
        "# how are your feelings about this tempered by the readings for this week?\n",
        "\n"
      ],
      "metadata": {
        "id": "Ur0M1mp9Q-aw"
      },
      "execution_count": null,
      "outputs": []
    },
    {
      "cell_type": "markdown",
      "source": [
        "citations:\n",
        "\n",
        "some codes/methods inspired by\n",
        "*   [Medium TheDataScience-ProF, \"Zero-Shot Classification Using Transformers\"](https://medium.com/@TheDataScience-ProF/zero-shot-classification-using-transformers-unlocking-the-power-of-ai-for-text-based-tasks-e5118398ef17)\n",
        "*   [Getting Started With Hugging Face](https://www.youtube.com/watch?v=QEaBAZQCtwE)\n",
        "[link text](https://)\n"
      ],
      "metadata": {
        "id": "m4Hbc0tYiRt3"
      }
    }
  ],
  "metadata": {
    "application/vnd.databricks.v1+notebook": {
      "dashboards": [],
      "language": "python",
      "notebookMetadata": {
        "pythonIndentUnit": 4
      },
      "notebookName": "sparkML-bigdata",
      "widgets": {}
    },
    "colab": {
      "provenance": [],
      "gpuType": "T4"
    },
    "language_info": {
      "name": "python"
    },
    "kernelspec": {
      "name": "python3",
      "display_name": "Python 3"
    },
    "accelerator": "GPU"
  },
  "nbformat": 4,
  "nbformat_minor": 0
}